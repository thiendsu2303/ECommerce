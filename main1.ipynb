{
 "cells": [
  {
   "cell_type": "code",
   "execution_count": 2,
   "metadata": {},
   "outputs": [],
   "source": [
    "import pandas as pd"
   ]
  },
  {
   "cell_type": "code",
   "execution_count": 3,
   "metadata": {},
   "outputs": [
    {
     "name": "stdout",
     "output_type": "stream",
     "text": [
      "                                       Source / Medium   Users  New Users  \\\n",
      "0                                         google / cpc  407950     344502   \n",
      "1                                     youtube / social   77785      55537   \n",
      "2                                    (direct) / (none)   64653      60181   \n",
      "3                                    facebook / social   48721      32781   \n",
      "4                               youtube.com / referral   27718      17774   \n",
      "..                                                 ...     ...        ...   \n",
      "192                      web.start.fyi / local_display       1          0   \n",
      "193  www-dienmayxanh-com.cdn.ampproject.org / local...       1          0   \n",
      "194                      xiaomiviet.vn / local_display       1          0   \n",
      "195                           xnxx.com / local_display       1          0   \n",
      "196                                   zalo / (not set)       1          1   \n",
      "\n",
      "     Sessions  Bounce Rate  Pages / Session  Avg. Session Duration  \\\n",
      "0      723208     0.621901         3.556041             176.025681   \n",
      "1      163447     0.788115         2.244324              89.944740   \n",
      "2      108534     0.553264         4.120340             200.429165   \n",
      "3      176662     0.844002         1.858996              73.206094   \n",
      "4       42464     0.639224         2.983563             148.443882   \n",
      "..        ...          ...              ...                    ...   \n",
      "192        22     0.363636         2.636364             237.818182   \n",
      "193         1     1.000000         1.000000               0.000000   \n",
      "194         2     0.000000         4.500000             113.000000   \n",
      "195         2     0.500000         1.500000               6.000000   \n",
      "196         1     1.000000         1.000000               0.000000   \n",
      "\n",
      "     Ecommerce Conversion Rate  Transactions       Revenue  \n",
      "0                     0.009079          6566  6.656088e+09  \n",
      "1                     0.005855           957  8.429079e+08  \n",
      "2                     0.009656          1048  1.040851e+09  \n",
      "3                     0.002830           500  5.344857e+08  \n",
      "4                     0.011963           508  4.025419e+08  \n",
      "..                         ...           ...           ...  \n",
      "192                   0.000000             0  0.000000e+00  \n",
      "193                   0.000000             0  0.000000e+00  \n",
      "194                   0.000000             0  0.000000e+00  \n",
      "195                   0.000000             0  0.000000e+00  \n",
      "196                   0.000000             0  0.000000e+00  \n",
      "\n",
      "[197 rows x 10 columns]\n"
     ]
    }
   ],
   "source": [
    "path_to_excel_file = \"Sample_Customore_Traffic raw.xlsx\"\n",
    "df = pd.read_excel(path_to_excel_file)\n",
    "df = df.drop(df.index[-1])\n",
    "print(df)"
   ]
  },
  {
   "cell_type": "code",
   "execution_count": 4,
   "metadata": {},
   "outputs": [
    {
     "data": {
      "text/plain": [
       "['zalo / (not set)', 1, 1, 1, 1.0, 1.0, 0.0, 0.0, 0, 0.0]"
      ]
     },
     "execution_count": 4,
     "metadata": {},
     "output_type": "execute_result"
    }
   ],
   "source": [
    "last_column_values = []\n",
    "for column in df.columns:\n",
    "    last_value = df[column].iloc[-1]\n",
    "    last_column_values.append(last_value)\n",
    "last_column_values"
   ]
  },
  {
   "cell_type": "code",
   "execution_count": 6,
   "metadata": {},
   "outputs": [
    {
     "name": "stdout",
     "output_type": "stream",
     "text": [
      "                                       Source / Medium   Users  New Users  \\\n",
      "0                                         google / cpc  407950     344502   \n",
      "1                                     youtube / social   77785      55537   \n",
      "2                                    (direct) / (none)   64653      60181   \n",
      "3                                    facebook / social   48721      32781   \n",
      "4                               youtube.com / referral   27718      17774   \n",
      "..                                                 ...     ...        ...   \n",
      "192                      web.start.fyi / local_display       1          0   \n",
      "193  www-dienmayxanh-com.cdn.ampproject.org / local...       1          0   \n",
      "194                      xiaomiviet.vn / local_display       1          0   \n",
      "195                           xnxx.com / local_display       1          0   \n",
      "196                                   zalo / (not set)       1          1   \n",
      "\n",
      "     Sessions  Bounce Rate  Pages / Session  Avg. Session Duration  \\\n",
      "0      723208     0.621901         3.556041             176.025681   \n",
      "1      163447     0.788115         2.244324              89.944740   \n",
      "2      108534     0.553264         4.120340             200.429165   \n",
      "3      176662     0.844002         1.858996              73.206094   \n",
      "4       42464     0.639224         2.983563             148.443882   \n",
      "..        ...          ...              ...                    ...   \n",
      "192        22     0.363636         2.636364             237.818182   \n",
      "193         1     1.000000         1.000000               0.000000   \n",
      "194         2     0.000000         4.500000             113.000000   \n",
      "195         2     0.500000         1.500000               6.000000   \n",
      "196         1     1.000000         1.000000               0.000000   \n",
      "\n",
      "     Ecommerce Conversion Rate  Transactions       Revenue  \\\n",
      "0                     0.009079          6566  6.656088e+09   \n",
      "1                     0.005855           957  8.429079e+08   \n",
      "2                     0.009656          1048  1.040851e+09   \n",
      "3                     0.002830           500  5.344857e+08   \n",
      "4                     0.011963           508  4.025419e+08   \n",
      "..                         ...           ...           ...   \n",
      "192                   0.000000             0  0.000000e+00   \n",
      "193                   0.000000             0  0.000000e+00   \n",
      "194                   0.000000             0  0.000000e+00   \n",
      "195                   0.000000             0  0.000000e+00   \n",
      "196                   0.000000             0  0.000000e+00   \n",
      "\n",
      "                                 new_source     new_medium  \n",
      "0                                    google            cpc  \n",
      "1                                   youtube         social  \n",
      "2                                  (direct)         (none)  \n",
      "3                                  facebook         social  \n",
      "4                               youtube.com       referral  \n",
      "..                                      ...            ...  \n",
      "192                           web.start.fyi  local_display  \n",
      "193  www-dienmayxanh-com.cdn.ampproject.org  local_display  \n",
      "194                           xiaomiviet.vn  local_display  \n",
      "195                                xnxx.com  local_display  \n",
      "196                                    zalo      (not set)  \n",
      "\n",
      "[197 rows x 12 columns]\n"
     ]
    }
   ],
   "source": [
    "new_source = []\n",
    "new_medium = []\n",
    "for value in df[\"Source / Medium\"]:\n",
    "    if str(value) == 'nan':\n",
    "        pass\n",
    "    else:\n",
    "        value = str(value)\n",
    "        value = value.split(\"/\")\n",
    "        new_source.append(value[0].strip())\n",
    "        new_medium.append(value[1].strip())\n",
    "df[\"new_source\"] = new_source\n",
    "df[\"new_medium\"] = new_medium\n",
    "print(df)"
   ]
  },
  {
   "cell_type": "code",
   "execution_count": 7,
   "metadata": {},
   "outputs": [
    {
     "data": {
      "application/vnd.plotly.v1+json": {
       "config": {
        "plotlyServerURL": "https://plot.ly"
       },
       "data": [
        {
         "labels": [
          "(none)",
          "(not set)",
          "cpc",
          "email",
          "local_display",
          "organic",
          "referral",
          "social",
          "zalo"
         ],
         "type": "pie",
         "values": [
          64653,
          1742,
          407955,
          1309,
          934,
          920,
          48971,
          127724,
          2782
         ]
        }
       ],
       "layout": {
        "showlegend": true,
        "template": {
         "data": {
          "bar": [
           {
            "error_x": {
             "color": "#2a3f5f"
            },
            "error_y": {
             "color": "#2a3f5f"
            },
            "marker": {
             "line": {
              "color": "#E5ECF6",
              "width": 0.5
             },
             "pattern": {
              "fillmode": "overlay",
              "size": 10,
              "solidity": 0.2
             }
            },
            "type": "bar"
           }
          ],
          "barpolar": [
           {
            "marker": {
             "line": {
              "color": "#E5ECF6",
              "width": 0.5
             },
             "pattern": {
              "fillmode": "overlay",
              "size": 10,
              "solidity": 0.2
             }
            },
            "type": "barpolar"
           }
          ],
          "carpet": [
           {
            "aaxis": {
             "endlinecolor": "#2a3f5f",
             "gridcolor": "white",
             "linecolor": "white",
             "minorgridcolor": "white",
             "startlinecolor": "#2a3f5f"
            },
            "baxis": {
             "endlinecolor": "#2a3f5f",
             "gridcolor": "white",
             "linecolor": "white",
             "minorgridcolor": "white",
             "startlinecolor": "#2a3f5f"
            },
            "type": "carpet"
           }
          ],
          "choropleth": [
           {
            "colorbar": {
             "outlinewidth": 0,
             "ticks": ""
            },
            "type": "choropleth"
           }
          ],
          "contour": [
           {
            "colorbar": {
             "outlinewidth": 0,
             "ticks": ""
            },
            "colorscale": [
             [
              0,
              "#0d0887"
             ],
             [
              0.1111111111111111,
              "#46039f"
             ],
             [
              0.2222222222222222,
              "#7201a8"
             ],
             [
              0.3333333333333333,
              "#9c179e"
             ],
             [
              0.4444444444444444,
              "#bd3786"
             ],
             [
              0.5555555555555556,
              "#d8576b"
             ],
             [
              0.6666666666666666,
              "#ed7953"
             ],
             [
              0.7777777777777778,
              "#fb9f3a"
             ],
             [
              0.8888888888888888,
              "#fdca26"
             ],
             [
              1,
              "#f0f921"
             ]
            ],
            "type": "contour"
           }
          ],
          "contourcarpet": [
           {
            "colorbar": {
             "outlinewidth": 0,
             "ticks": ""
            },
            "type": "contourcarpet"
           }
          ],
          "heatmap": [
           {
            "colorbar": {
             "outlinewidth": 0,
             "ticks": ""
            },
            "colorscale": [
             [
              0,
              "#0d0887"
             ],
             [
              0.1111111111111111,
              "#46039f"
             ],
             [
              0.2222222222222222,
              "#7201a8"
             ],
             [
              0.3333333333333333,
              "#9c179e"
             ],
             [
              0.4444444444444444,
              "#bd3786"
             ],
             [
              0.5555555555555556,
              "#d8576b"
             ],
             [
              0.6666666666666666,
              "#ed7953"
             ],
             [
              0.7777777777777778,
              "#fb9f3a"
             ],
             [
              0.8888888888888888,
              "#fdca26"
             ],
             [
              1,
              "#f0f921"
             ]
            ],
            "type": "heatmap"
           }
          ],
          "heatmapgl": [
           {
            "colorbar": {
             "outlinewidth": 0,
             "ticks": ""
            },
            "colorscale": [
             [
              0,
              "#0d0887"
             ],
             [
              0.1111111111111111,
              "#46039f"
             ],
             [
              0.2222222222222222,
              "#7201a8"
             ],
             [
              0.3333333333333333,
              "#9c179e"
             ],
             [
              0.4444444444444444,
              "#bd3786"
             ],
             [
              0.5555555555555556,
              "#d8576b"
             ],
             [
              0.6666666666666666,
              "#ed7953"
             ],
             [
              0.7777777777777778,
              "#fb9f3a"
             ],
             [
              0.8888888888888888,
              "#fdca26"
             ],
             [
              1,
              "#f0f921"
             ]
            ],
            "type": "heatmapgl"
           }
          ],
          "histogram": [
           {
            "marker": {
             "pattern": {
              "fillmode": "overlay",
              "size": 10,
              "solidity": 0.2
             }
            },
            "type": "histogram"
           }
          ],
          "histogram2d": [
           {
            "colorbar": {
             "outlinewidth": 0,
             "ticks": ""
            },
            "colorscale": [
             [
              0,
              "#0d0887"
             ],
             [
              0.1111111111111111,
              "#46039f"
             ],
             [
              0.2222222222222222,
              "#7201a8"
             ],
             [
              0.3333333333333333,
              "#9c179e"
             ],
             [
              0.4444444444444444,
              "#bd3786"
             ],
             [
              0.5555555555555556,
              "#d8576b"
             ],
             [
              0.6666666666666666,
              "#ed7953"
             ],
             [
              0.7777777777777778,
              "#fb9f3a"
             ],
             [
              0.8888888888888888,
              "#fdca26"
             ],
             [
              1,
              "#f0f921"
             ]
            ],
            "type": "histogram2d"
           }
          ],
          "histogram2dcontour": [
           {
            "colorbar": {
             "outlinewidth": 0,
             "ticks": ""
            },
            "colorscale": [
             [
              0,
              "#0d0887"
             ],
             [
              0.1111111111111111,
              "#46039f"
             ],
             [
              0.2222222222222222,
              "#7201a8"
             ],
             [
              0.3333333333333333,
              "#9c179e"
             ],
             [
              0.4444444444444444,
              "#bd3786"
             ],
             [
              0.5555555555555556,
              "#d8576b"
             ],
             [
              0.6666666666666666,
              "#ed7953"
             ],
             [
              0.7777777777777778,
              "#fb9f3a"
             ],
             [
              0.8888888888888888,
              "#fdca26"
             ],
             [
              1,
              "#f0f921"
             ]
            ],
            "type": "histogram2dcontour"
           }
          ],
          "mesh3d": [
           {
            "colorbar": {
             "outlinewidth": 0,
             "ticks": ""
            },
            "type": "mesh3d"
           }
          ],
          "parcoords": [
           {
            "line": {
             "colorbar": {
              "outlinewidth": 0,
              "ticks": ""
             }
            },
            "type": "parcoords"
           }
          ],
          "pie": [
           {
            "automargin": true,
            "type": "pie"
           }
          ],
          "scatter": [
           {
            "fillpattern": {
             "fillmode": "overlay",
             "size": 10,
             "solidity": 0.2
            },
            "type": "scatter"
           }
          ],
          "scatter3d": [
           {
            "line": {
             "colorbar": {
              "outlinewidth": 0,
              "ticks": ""
             }
            },
            "marker": {
             "colorbar": {
              "outlinewidth": 0,
              "ticks": ""
             }
            },
            "type": "scatter3d"
           }
          ],
          "scattercarpet": [
           {
            "marker": {
             "colorbar": {
              "outlinewidth": 0,
              "ticks": ""
             }
            },
            "type": "scattercarpet"
           }
          ],
          "scattergeo": [
           {
            "marker": {
             "colorbar": {
              "outlinewidth": 0,
              "ticks": ""
             }
            },
            "type": "scattergeo"
           }
          ],
          "scattergl": [
           {
            "marker": {
             "colorbar": {
              "outlinewidth": 0,
              "ticks": ""
             }
            },
            "type": "scattergl"
           }
          ],
          "scattermapbox": [
           {
            "marker": {
             "colorbar": {
              "outlinewidth": 0,
              "ticks": ""
             }
            },
            "type": "scattermapbox"
           }
          ],
          "scatterpolar": [
           {
            "marker": {
             "colorbar": {
              "outlinewidth": 0,
              "ticks": ""
             }
            },
            "type": "scatterpolar"
           }
          ],
          "scatterpolargl": [
           {
            "marker": {
             "colorbar": {
              "outlinewidth": 0,
              "ticks": ""
             }
            },
            "type": "scatterpolargl"
           }
          ],
          "scatterternary": [
           {
            "marker": {
             "colorbar": {
              "outlinewidth": 0,
              "ticks": ""
             }
            },
            "type": "scatterternary"
           }
          ],
          "surface": [
           {
            "colorbar": {
             "outlinewidth": 0,
             "ticks": ""
            },
            "colorscale": [
             [
              0,
              "#0d0887"
             ],
             [
              0.1111111111111111,
              "#46039f"
             ],
             [
              0.2222222222222222,
              "#7201a8"
             ],
             [
              0.3333333333333333,
              "#9c179e"
             ],
             [
              0.4444444444444444,
              "#bd3786"
             ],
             [
              0.5555555555555556,
              "#d8576b"
             ],
             [
              0.6666666666666666,
              "#ed7953"
             ],
             [
              0.7777777777777778,
              "#fb9f3a"
             ],
             [
              0.8888888888888888,
              "#fdca26"
             ],
             [
              1,
              "#f0f921"
             ]
            ],
            "type": "surface"
           }
          ],
          "table": [
           {
            "cells": {
             "fill": {
              "color": "#EBF0F8"
             },
             "line": {
              "color": "white"
             }
            },
            "header": {
             "fill": {
              "color": "#C8D4E3"
             },
             "line": {
              "color": "white"
             }
            },
            "type": "table"
           }
          ]
         },
         "layout": {
          "annotationdefaults": {
           "arrowcolor": "#2a3f5f",
           "arrowhead": 0,
           "arrowwidth": 1
          },
          "autotypenumbers": "strict",
          "coloraxis": {
           "colorbar": {
            "outlinewidth": 0,
            "ticks": ""
           }
          },
          "colorscale": {
           "diverging": [
            [
             0,
             "#8e0152"
            ],
            [
             0.1,
             "#c51b7d"
            ],
            [
             0.2,
             "#de77ae"
            ],
            [
             0.3,
             "#f1b6da"
            ],
            [
             0.4,
             "#fde0ef"
            ],
            [
             0.5,
             "#f7f7f7"
            ],
            [
             0.6,
             "#e6f5d0"
            ],
            [
             0.7,
             "#b8e186"
            ],
            [
             0.8,
             "#7fbc41"
            ],
            [
             0.9,
             "#4d9221"
            ],
            [
             1,
             "#276419"
            ]
           ],
           "sequential": [
            [
             0,
             "#0d0887"
            ],
            [
             0.1111111111111111,
             "#46039f"
            ],
            [
             0.2222222222222222,
             "#7201a8"
            ],
            [
             0.3333333333333333,
             "#9c179e"
            ],
            [
             0.4444444444444444,
             "#bd3786"
            ],
            [
             0.5555555555555556,
             "#d8576b"
            ],
            [
             0.6666666666666666,
             "#ed7953"
            ],
            [
             0.7777777777777778,
             "#fb9f3a"
            ],
            [
             0.8888888888888888,
             "#fdca26"
            ],
            [
             1,
             "#f0f921"
            ]
           ],
           "sequentialminus": [
            [
             0,
             "#0d0887"
            ],
            [
             0.1111111111111111,
             "#46039f"
            ],
            [
             0.2222222222222222,
             "#7201a8"
            ],
            [
             0.3333333333333333,
             "#9c179e"
            ],
            [
             0.4444444444444444,
             "#bd3786"
            ],
            [
             0.5555555555555556,
             "#d8576b"
            ],
            [
             0.6666666666666666,
             "#ed7953"
            ],
            [
             0.7777777777777778,
             "#fb9f3a"
            ],
            [
             0.8888888888888888,
             "#fdca26"
            ],
            [
             1,
             "#f0f921"
            ]
           ]
          },
          "colorway": [
           "#636efa",
           "#EF553B",
           "#00cc96",
           "#ab63fa",
           "#FFA15A",
           "#19d3f3",
           "#FF6692",
           "#B6E880",
           "#FF97FF",
           "#FECB52"
          ],
          "font": {
           "color": "#2a3f5f"
          },
          "geo": {
           "bgcolor": "white",
           "lakecolor": "white",
           "landcolor": "#E5ECF6",
           "showlakes": true,
           "showland": true,
           "subunitcolor": "white"
          },
          "hoverlabel": {
           "align": "left"
          },
          "hovermode": "closest",
          "mapbox": {
           "style": "light"
          },
          "paper_bgcolor": "white",
          "plot_bgcolor": "#E5ECF6",
          "polar": {
           "angularaxis": {
            "gridcolor": "white",
            "linecolor": "white",
            "ticks": ""
           },
           "bgcolor": "#E5ECF6",
           "radialaxis": {
            "gridcolor": "white",
            "linecolor": "white",
            "ticks": ""
           }
          },
          "scene": {
           "xaxis": {
            "backgroundcolor": "#E5ECF6",
            "gridcolor": "white",
            "gridwidth": 2,
            "linecolor": "white",
            "showbackground": true,
            "ticks": "",
            "zerolinecolor": "white"
           },
           "yaxis": {
            "backgroundcolor": "#E5ECF6",
            "gridcolor": "white",
            "gridwidth": 2,
            "linecolor": "white",
            "showbackground": true,
            "ticks": "",
            "zerolinecolor": "white"
           },
           "zaxis": {
            "backgroundcolor": "#E5ECF6",
            "gridcolor": "white",
            "gridwidth": 2,
            "linecolor": "white",
            "showbackground": true,
            "ticks": "",
            "zerolinecolor": "white"
           }
          },
          "shapedefaults": {
           "line": {
            "color": "#2a3f5f"
           }
          },
          "ternary": {
           "aaxis": {
            "gridcolor": "white",
            "linecolor": "white",
            "ticks": ""
           },
           "baxis": {
            "gridcolor": "white",
            "linecolor": "white",
            "ticks": ""
           },
           "bgcolor": "#E5ECF6",
           "caxis": {
            "gridcolor": "white",
            "linecolor": "white",
            "ticks": ""
           }
          },
          "title": {
           "x": 0.05
          },
          "xaxis": {
           "automargin": true,
           "gridcolor": "white",
           "linecolor": "white",
           "ticks": "",
           "title": {
            "standoff": 15
           },
           "zerolinecolor": "white",
           "zerolinewidth": 2
          },
          "yaxis": {
           "automargin": true,
           "gridcolor": "white",
           "linecolor": "white",
           "ticks": "",
           "title": {
            "standoff": 15
           },
           "zerolinecolor": "white",
           "zerolinewidth": 2
          }
         }
        },
        "title": {
         "text": "Phân bổ Users theo Medium"
        }
       }
      }
     },
     "metadata": {},
     "output_type": "display_data"
    }
   ],
   "source": [
    "import plotly.graph_objects as go\n",
    "\n",
    "# Tính tổng số Users của từng loại Medium\n",
    "medium_users = df.groupby('new_medium')['Users'].sum()\n",
    "\n",
    "# Tạo đối tượng Pie\n",
    "fig = go.Figure(data=go.Pie(labels=medium_users.index, values=medium_users))\n",
    "\n",
    "# Đặt tiêu đề và các thuộc tính của biểu đồ tròn\n",
    "fig.update_layout(\n",
    "    title=\"Phân bổ Users theo Medium\",\n",
    "    showlegend=True,\n",
    ")\n",
    "\n",
    "# Hiển thị biểu đồ\n",
    "fig.show()\n"
   ]
  },
  {
   "cell_type": "code",
   "execution_count": 9,
   "metadata": {},
   "outputs": [
    {
     "data": {
      "application/vnd.plotly.v1+json": {
       "config": {
        "plotlyServerURL": "https://plot.ly"
       },
       "data": [
        {
         "name": "cpc",
         "type": "bar",
         "x": [
          "google"
         ],
         "y": [
          407955
         ]
        },
        {
         "name": "social",
         "type": "bar",
         "x": [
          "youtube",
          "facebook",
          "instagram",
          "twitter"
         ],
         "y": [
          77785,
          48721,
          1210,
          8
         ]
        },
        {
         "name": "(none)",
         "type": "bar",
         "x": [
          "(direct)"
         ],
         "y": [
          64653
         ]
        },
        {
         "name": "referral",
         "type": "bar",
         "x": [
          "youtube.com",
          "m.facebook.com",
          "l.facebook.com",
          "facebook.com",
          "googleapis.com",
          "lm.facebook.com",
          "l.instagram.com",
          "m.youtube.com",
          "mailchi.mp",
          "googleweblight.com",
          "google.com",
          "instagram.com",
          "r.search.aol.com",
          "tw.search.yahoo.com",
          "translate.google.com",
          "tpc.googlesyndication.com",
          "touch.facebook.com",
          "no.search.yahoo.com",
          "search.google.com",
          "uk.search.yahoo.com",
          "upload.facebook.com",
          "us.search.yahoo.com",
          "google.com.vn",
          "imasdk.googleapis.com"
         ],
         "y": [
          27718,
          14373,
          3661,
          1594,
          1411,
          147,
          16,
          15,
          7,
          7,
          5,
          3,
          2,
          2,
          1,
          1,
          1,
          1,
          1,
          1,
          1,
          1,
          1,
          1
         ]
        },
        {
         "name": "zalo",
         "type": "bar",
         "x": [
          "zalo"
         ],
         "y": [
          2782
         ]
        },
        {
         "name": "(not set)",
         "type": "bar",
         "x": [
          "youtube",
          "zalo"
         ],
         "y": [
          1741,
          1
         ]
        },
        {
         "name": "email",
         "type": "bar",
         "x": [
          "newsletter"
         ],
         "y": [
          1309
         ]
        },
        {
         "name": "organic",
         "type": "bar",
         "x": [
          "yahoo",
          "bing",
          "duckduckgo",
          "ecosia.org",
          "yandex",
          "sogou"
         ],
         "y": [
          451,
          336,
          71,
          40,
          21,
          1
         ]
        },
        {
         "name": "local_display",
         "type": "bar",
         "x": [
          "vn.search.yahoo.com",
          "l.messenger.com",
          "123.20.207.23",
          "coccoc.com",
          "ecosia.org",
          "linhkiendoc.com",
          "mlr.itim.vn",
          "tinhte.vn",
          "l.workplace.com",
          "baidu.com",
          "vnexpress.net",
          "us20.campaign-archive.com",
          "yandex.ru",
          "us7.campaign-archive.com",
          "cn.bing.com",
          "websosanh.vn",
          "adguard.com",
          "cuahangtcs.com",
          "news.zing.vn",
          "ttvnol.com",
          "webredirect.garenanow.com",
          "genk.vn",
          "getpocket.com",
          "out.easycounter.com",
          "ankersacnhanh.com",
          "bit.ly",
          "new-cms.icheck.com.vn",
          "ahrefs3.tool.buyseotools.io",
          "ahrefs.tool.buyseotools.io",
          "m.genk.vn",
          "xvideos.com",
          "muare.club",
          "m.kenh14.vn",
          "thuonggiado.vn",
          "hucau.net",
          "opti-page.com",
          "search.gmx.net",
          "m.cafe.naver.com",
          "hk.search.yahoo.com",
          "m.websosanh.vn",
          "mail.yahoo.com",
          "r.duckduckgo.com",
          "m.baomoi.com",
          "baomoi.com",
          "24h.com.vn",
          "yandex.com",
          "ahrefs2.tool.buyseotools.io",
          "ameblo.top",
          "cellphones.com.vn",
          "forums.voz.vn",
          "xsmn.me",
          "ozbargain.com.au",
          "vn.indeed.com",
          "pfp1.boehringer.com",
          "pages.lazada.vn",
          "vietnamnet.vn",
          "phatdatcomputer.vn",
          "phimmoi.net",
          "wap.sogou.com",
          "oxii.vn",
          "web.start.fyi",
          "vietlott.vn",
          "www-dienmayxanh-com.cdn.ampproject.org",
          "xiaomiviet.vn",
          "xnxx.com",
          "openurls.com.cn",
          "online.acb.com.vn",
          "notify.bluecoat.com",
          "phukiengiare24h.com",
          "proe.vn",
          "10.100.0.27",
          "thiendia.com",
          "tuoi69.com",
          "thegioididong.com",
          "tendata.mailsou.com",
          "techzones.vn",
          "start.mysearchdial.com",
          "tuoitre.vn",
          "shopeecs.lightning.force.com",
          "vietfones.vn",
          "sextop1.net",
          "saigonxua.vn",
          "saigonvape.net",
          "rinkshop.tk",
          "vi.m.wikipedia.org",
          "116.109.22.193:8880",
          "172.168.0.1",
          "nhattao.com",
          "dientuachau.com",
          "chartsapi.gdgdocs.org",
          "chonhanh.vn",
          "cic.org.vn",
          "clickbuy.com.vn",
          "degrey.vn",
          "dienmayxanh.com",
          "dmca.com",
          "docbao.vn",
          "ebank.tpb.vn",
          "ebanking.scb.com.vn",
          "172.16.0.1:2050",
          "fedauth.pg.com",
          "giare24h.com",
          "cancaukr.vn",
          "bongdaplus.vn",
          "bongda.com.vn",
          "blog.naver.com",
          "bak.com.vn",
          "bachlongmobile.com",
          "axcus.top",
          "apkpure.com",
          "animehay.tv",
          "amp-24h-com-vn.cdn.ampproject.org",
          "5giay.vn",
          "59.29.251.41",
          "192.168.70.2:8880",
          "192.168.2.1",
          "192.168.162.254:90",
          "192.168.1.1",
          "172.23.3.254:1000",
          "172.16.0.1:1000",
          "hangmy.fptshop.com.vn",
          "mistore.com.vn",
          "m.blog.naver.com",
          "livejournal.top",
          "livescore.com",
          "10.0.0.1:8000",
          "lm.workplace.com",
          "logoutwifi.netnam.vn",
          "172.17.0.1:12082",
          "m.cafef.vn",
          "hdvietnam.com",
          "m.gamek.vn",
          "m.thanhnien.vn",
          "maccenter.vn",
          "mangapark.net",
          "messenger.com",
          "misaigon.vn",
          "linhkienlammusic.com",
          "lienvietpharmacy.hostingerapp.com",
          "lg.com",
          "lazada.vn",
          "123.30.116.134",
          "kenh14.vn",
          "iwater.vn",
          "int.search.tb.ask.com",
          "in.search.yahoo.com",
          "ieltsonlinetests.com",
          "hyundaithuduc.vn",
          "homeokatu.com",
          "hoco.vn",
          "hocdientu.vn",
          "hocacanh.vn",
          "hoangkien.com",
          "livetv.sx"
         ],
         "y": [
          231,
          142,
          75,
          56,
          53,
          48,
          25,
          21,
          17,
          16,
          11,
          9,
          9,
          7,
          6,
          6,
          5,
          5,
          5,
          5,
          5,
          4,
          4,
          3,
          3,
          3,
          3,
          3,
          3,
          3,
          3,
          3,
          3,
          2,
          2,
          2,
          2,
          2,
          2,
          2,
          2,
          2,
          2,
          2,
          2,
          2,
          2,
          2,
          2,
          2,
          2,
          1,
          1,
          1,
          1,
          1,
          1,
          1,
          1,
          1,
          1,
          1,
          1,
          1,
          1,
          1,
          1,
          1,
          1,
          1,
          1,
          1,
          1,
          1,
          1,
          1,
          1,
          1,
          1,
          1,
          1,
          1,
          1,
          1,
          1,
          1,
          1,
          1,
          1,
          1,
          1,
          1,
          1,
          1,
          1,
          1,
          1,
          1,
          1,
          1,
          1,
          1,
          1,
          1,
          1,
          1,
          1,
          1,
          1,
          1,
          1,
          1,
          1,
          1,
          1,
          1,
          1,
          1,
          1,
          1,
          1,
          1,
          1,
          1,
          1,
          1,
          1,
          1,
          1,
          1,
          1,
          1,
          1,
          1,
          1,
          1,
          1,
          1,
          1,
          1,
          1,
          1,
          1,
          1,
          1,
          1,
          1,
          1,
          1,
          1,
          1,
          1,
          1,
          1
         ]
        }
       ],
       "layout": {
        "barmode": "group",
        "legend": {
         "title": {
          "text": "Category"
         }
        },
        "template": {
         "data": {
          "bar": [
           {
            "error_x": {
             "color": "#2a3f5f"
            },
            "error_y": {
             "color": "#2a3f5f"
            },
            "marker": {
             "line": {
              "color": "#E5ECF6",
              "width": 0.5
             },
             "pattern": {
              "fillmode": "overlay",
              "size": 10,
              "solidity": 0.2
             }
            },
            "type": "bar"
           }
          ],
          "barpolar": [
           {
            "marker": {
             "line": {
              "color": "#E5ECF6",
              "width": 0.5
             },
             "pattern": {
              "fillmode": "overlay",
              "size": 10,
              "solidity": 0.2
             }
            },
            "type": "barpolar"
           }
          ],
          "carpet": [
           {
            "aaxis": {
             "endlinecolor": "#2a3f5f",
             "gridcolor": "white",
             "linecolor": "white",
             "minorgridcolor": "white",
             "startlinecolor": "#2a3f5f"
            },
            "baxis": {
             "endlinecolor": "#2a3f5f",
             "gridcolor": "white",
             "linecolor": "white",
             "minorgridcolor": "white",
             "startlinecolor": "#2a3f5f"
            },
            "type": "carpet"
           }
          ],
          "choropleth": [
           {
            "colorbar": {
             "outlinewidth": 0,
             "ticks": ""
            },
            "type": "choropleth"
           }
          ],
          "contour": [
           {
            "colorbar": {
             "outlinewidth": 0,
             "ticks": ""
            },
            "colorscale": [
             [
              0,
              "#0d0887"
             ],
             [
              0.1111111111111111,
              "#46039f"
             ],
             [
              0.2222222222222222,
              "#7201a8"
             ],
             [
              0.3333333333333333,
              "#9c179e"
             ],
             [
              0.4444444444444444,
              "#bd3786"
             ],
             [
              0.5555555555555556,
              "#d8576b"
             ],
             [
              0.6666666666666666,
              "#ed7953"
             ],
             [
              0.7777777777777778,
              "#fb9f3a"
             ],
             [
              0.8888888888888888,
              "#fdca26"
             ],
             [
              1,
              "#f0f921"
             ]
            ],
            "type": "contour"
           }
          ],
          "contourcarpet": [
           {
            "colorbar": {
             "outlinewidth": 0,
             "ticks": ""
            },
            "type": "contourcarpet"
           }
          ],
          "heatmap": [
           {
            "colorbar": {
             "outlinewidth": 0,
             "ticks": ""
            },
            "colorscale": [
             [
              0,
              "#0d0887"
             ],
             [
              0.1111111111111111,
              "#46039f"
             ],
             [
              0.2222222222222222,
              "#7201a8"
             ],
             [
              0.3333333333333333,
              "#9c179e"
             ],
             [
              0.4444444444444444,
              "#bd3786"
             ],
             [
              0.5555555555555556,
              "#d8576b"
             ],
             [
              0.6666666666666666,
              "#ed7953"
             ],
             [
              0.7777777777777778,
              "#fb9f3a"
             ],
             [
              0.8888888888888888,
              "#fdca26"
             ],
             [
              1,
              "#f0f921"
             ]
            ],
            "type": "heatmap"
           }
          ],
          "heatmapgl": [
           {
            "colorbar": {
             "outlinewidth": 0,
             "ticks": ""
            },
            "colorscale": [
             [
              0,
              "#0d0887"
             ],
             [
              0.1111111111111111,
              "#46039f"
             ],
             [
              0.2222222222222222,
              "#7201a8"
             ],
             [
              0.3333333333333333,
              "#9c179e"
             ],
             [
              0.4444444444444444,
              "#bd3786"
             ],
             [
              0.5555555555555556,
              "#d8576b"
             ],
             [
              0.6666666666666666,
              "#ed7953"
             ],
             [
              0.7777777777777778,
              "#fb9f3a"
             ],
             [
              0.8888888888888888,
              "#fdca26"
             ],
             [
              1,
              "#f0f921"
             ]
            ],
            "type": "heatmapgl"
           }
          ],
          "histogram": [
           {
            "marker": {
             "pattern": {
              "fillmode": "overlay",
              "size": 10,
              "solidity": 0.2
             }
            },
            "type": "histogram"
           }
          ],
          "histogram2d": [
           {
            "colorbar": {
             "outlinewidth": 0,
             "ticks": ""
            },
            "colorscale": [
             [
              0,
              "#0d0887"
             ],
             [
              0.1111111111111111,
              "#46039f"
             ],
             [
              0.2222222222222222,
              "#7201a8"
             ],
             [
              0.3333333333333333,
              "#9c179e"
             ],
             [
              0.4444444444444444,
              "#bd3786"
             ],
             [
              0.5555555555555556,
              "#d8576b"
             ],
             [
              0.6666666666666666,
              "#ed7953"
             ],
             [
              0.7777777777777778,
              "#fb9f3a"
             ],
             [
              0.8888888888888888,
              "#fdca26"
             ],
             [
              1,
              "#f0f921"
             ]
            ],
            "type": "histogram2d"
           }
          ],
          "histogram2dcontour": [
           {
            "colorbar": {
             "outlinewidth": 0,
             "ticks": ""
            },
            "colorscale": [
             [
              0,
              "#0d0887"
             ],
             [
              0.1111111111111111,
              "#46039f"
             ],
             [
              0.2222222222222222,
              "#7201a8"
             ],
             [
              0.3333333333333333,
              "#9c179e"
             ],
             [
              0.4444444444444444,
              "#bd3786"
             ],
             [
              0.5555555555555556,
              "#d8576b"
             ],
             [
              0.6666666666666666,
              "#ed7953"
             ],
             [
              0.7777777777777778,
              "#fb9f3a"
             ],
             [
              0.8888888888888888,
              "#fdca26"
             ],
             [
              1,
              "#f0f921"
             ]
            ],
            "type": "histogram2dcontour"
           }
          ],
          "mesh3d": [
           {
            "colorbar": {
             "outlinewidth": 0,
             "ticks": ""
            },
            "type": "mesh3d"
           }
          ],
          "parcoords": [
           {
            "line": {
             "colorbar": {
              "outlinewidth": 0,
              "ticks": ""
             }
            },
            "type": "parcoords"
           }
          ],
          "pie": [
           {
            "automargin": true,
            "type": "pie"
           }
          ],
          "scatter": [
           {
            "fillpattern": {
             "fillmode": "overlay",
             "size": 10,
             "solidity": 0.2
            },
            "type": "scatter"
           }
          ],
          "scatter3d": [
           {
            "line": {
             "colorbar": {
              "outlinewidth": 0,
              "ticks": ""
             }
            },
            "marker": {
             "colorbar": {
              "outlinewidth": 0,
              "ticks": ""
             }
            },
            "type": "scatter3d"
           }
          ],
          "scattercarpet": [
           {
            "marker": {
             "colorbar": {
              "outlinewidth": 0,
              "ticks": ""
             }
            },
            "type": "scattercarpet"
           }
          ],
          "scattergeo": [
           {
            "marker": {
             "colorbar": {
              "outlinewidth": 0,
              "ticks": ""
             }
            },
            "type": "scattergeo"
           }
          ],
          "scattergl": [
           {
            "marker": {
             "colorbar": {
              "outlinewidth": 0,
              "ticks": ""
             }
            },
            "type": "scattergl"
           }
          ],
          "scattermapbox": [
           {
            "marker": {
             "colorbar": {
              "outlinewidth": 0,
              "ticks": ""
             }
            },
            "type": "scattermapbox"
           }
          ],
          "scatterpolar": [
           {
            "marker": {
             "colorbar": {
              "outlinewidth": 0,
              "ticks": ""
             }
            },
            "type": "scatterpolar"
           }
          ],
          "scatterpolargl": [
           {
            "marker": {
             "colorbar": {
              "outlinewidth": 0,
              "ticks": ""
             }
            },
            "type": "scatterpolargl"
           }
          ],
          "scatterternary": [
           {
            "marker": {
             "colorbar": {
              "outlinewidth": 0,
              "ticks": ""
             }
            },
            "type": "scatterternary"
           }
          ],
          "surface": [
           {
            "colorbar": {
             "outlinewidth": 0,
             "ticks": ""
            },
            "colorscale": [
             [
              0,
              "#0d0887"
             ],
             [
              0.1111111111111111,
              "#46039f"
             ],
             [
              0.2222222222222222,
              "#7201a8"
             ],
             [
              0.3333333333333333,
              "#9c179e"
             ],
             [
              0.4444444444444444,
              "#bd3786"
             ],
             [
              0.5555555555555556,
              "#d8576b"
             ],
             [
              0.6666666666666666,
              "#ed7953"
             ],
             [
              0.7777777777777778,
              "#fb9f3a"
             ],
             [
              0.8888888888888888,
              "#fdca26"
             ],
             [
              1,
              "#f0f921"
             ]
            ],
            "type": "surface"
           }
          ],
          "table": [
           {
            "cells": {
             "fill": {
              "color": "#EBF0F8"
             },
             "line": {
              "color": "white"
             }
            },
            "header": {
             "fill": {
              "color": "#C8D4E3"
             },
             "line": {
              "color": "white"
             }
            },
            "type": "table"
           }
          ]
         },
         "layout": {
          "annotationdefaults": {
           "arrowcolor": "#2a3f5f",
           "arrowhead": 0,
           "arrowwidth": 1
          },
          "autotypenumbers": "strict",
          "coloraxis": {
           "colorbar": {
            "outlinewidth": 0,
            "ticks": ""
           }
          },
          "colorscale": {
           "diverging": [
            [
             0,
             "#8e0152"
            ],
            [
             0.1,
             "#c51b7d"
            ],
            [
             0.2,
             "#de77ae"
            ],
            [
             0.3,
             "#f1b6da"
            ],
            [
             0.4,
             "#fde0ef"
            ],
            [
             0.5,
             "#f7f7f7"
            ],
            [
             0.6,
             "#e6f5d0"
            ],
            [
             0.7,
             "#b8e186"
            ],
            [
             0.8,
             "#7fbc41"
            ],
            [
             0.9,
             "#4d9221"
            ],
            [
             1,
             "#276419"
            ]
           ],
           "sequential": [
            [
             0,
             "#0d0887"
            ],
            [
             0.1111111111111111,
             "#46039f"
            ],
            [
             0.2222222222222222,
             "#7201a8"
            ],
            [
             0.3333333333333333,
             "#9c179e"
            ],
            [
             0.4444444444444444,
             "#bd3786"
            ],
            [
             0.5555555555555556,
             "#d8576b"
            ],
            [
             0.6666666666666666,
             "#ed7953"
            ],
            [
             0.7777777777777778,
             "#fb9f3a"
            ],
            [
             0.8888888888888888,
             "#fdca26"
            ],
            [
             1,
             "#f0f921"
            ]
           ],
           "sequentialminus": [
            [
             0,
             "#0d0887"
            ],
            [
             0.1111111111111111,
             "#46039f"
            ],
            [
             0.2222222222222222,
             "#7201a8"
            ],
            [
             0.3333333333333333,
             "#9c179e"
            ],
            [
             0.4444444444444444,
             "#bd3786"
            ],
            [
             0.5555555555555556,
             "#d8576b"
            ],
            [
             0.6666666666666666,
             "#ed7953"
            ],
            [
             0.7777777777777778,
             "#fb9f3a"
            ],
            [
             0.8888888888888888,
             "#fdca26"
            ],
            [
             1,
             "#f0f921"
            ]
           ]
          },
          "colorway": [
           "#636efa",
           "#EF553B",
           "#00cc96",
           "#ab63fa",
           "#FFA15A",
           "#19d3f3",
           "#FF6692",
           "#B6E880",
           "#FF97FF",
           "#FECB52"
          ],
          "font": {
           "color": "#2a3f5f"
          },
          "geo": {
           "bgcolor": "white",
           "lakecolor": "white",
           "landcolor": "#E5ECF6",
           "showlakes": true,
           "showland": true,
           "subunitcolor": "white"
          },
          "hoverlabel": {
           "align": "left"
          },
          "hovermode": "closest",
          "mapbox": {
           "style": "light"
          },
          "paper_bgcolor": "white",
          "plot_bgcolor": "#E5ECF6",
          "polar": {
           "angularaxis": {
            "gridcolor": "white",
            "linecolor": "white",
            "ticks": ""
           },
           "bgcolor": "#E5ECF6",
           "radialaxis": {
            "gridcolor": "white",
            "linecolor": "white",
            "ticks": ""
           }
          },
          "scene": {
           "xaxis": {
            "backgroundcolor": "#E5ECF6",
            "gridcolor": "white",
            "gridwidth": 2,
            "linecolor": "white",
            "showbackground": true,
            "ticks": "",
            "zerolinecolor": "white"
           },
           "yaxis": {
            "backgroundcolor": "#E5ECF6",
            "gridcolor": "white",
            "gridwidth": 2,
            "linecolor": "white",
            "showbackground": true,
            "ticks": "",
            "zerolinecolor": "white"
           },
           "zaxis": {
            "backgroundcolor": "#E5ECF6",
            "gridcolor": "white",
            "gridwidth": 2,
            "linecolor": "white",
            "showbackground": true,
            "ticks": "",
            "zerolinecolor": "white"
           }
          },
          "shapedefaults": {
           "line": {
            "color": "#2a3f5f"
           }
          },
          "ternary": {
           "aaxis": {
            "gridcolor": "white",
            "linecolor": "white",
            "ticks": ""
           },
           "baxis": {
            "gridcolor": "white",
            "linecolor": "white",
            "ticks": ""
           },
           "bgcolor": "#E5ECF6",
           "caxis": {
            "gridcolor": "white",
            "linecolor": "white",
            "ticks": ""
           }
          },
          "title": {
           "x": 0.05
          },
          "xaxis": {
           "automargin": true,
           "gridcolor": "white",
           "linecolor": "white",
           "ticks": "",
           "title": {
            "standoff": 15
           },
           "zerolinecolor": "white",
           "zerolinewidth": 2
          },
          "yaxis": {
           "automargin": true,
           "gridcolor": "white",
           "linecolor": "white",
           "ticks": "",
           "title": {
            "standoff": 15
           },
           "zerolinecolor": "white",
           "zerolinewidth": 2
          }
         }
        },
        "title": {
         "text": "Profit by Sub-Category within Each Category"
        },
        "xaxis": {
         "title": {
          "text": "Sub-Category"
         }
        },
        "yaxis": {
         "title": {
          "text": "Profit"
         }
        }
       }
      }
     },
     "metadata": {},
     "output_type": "display_data"
    }
   ],
   "source": [
    "category_by_profit = df.groupby(['new_source', 'new_medium'])['Users'].sum().reset_index()\n",
    "category_by_profit.sort_values('Users', ascending=False, inplace=True)\n",
    "fig = go.Figure()\n",
    "for category in category_by_profit['new_medium'].unique():\n",
    "    data = category_by_profit[category_by_profit['new_medium'] == category]\n",
    "    fig.add_trace(go.Bar(\n",
    "        x=data['new_source'],\n",
    "        y=data['Users'],\n",
    "        name=category\n",
    "    ))\n",
    "fig.update_layout(\n",
    "    title='Profit by Sub-Category within Each Category',\n",
    "    xaxis=dict(title='Sub-Category'),\n",
    "    yaxis=dict(title='Profit'),\n",
    "    barmode='group',\n",
    "    legend_title='Category'\n",
    ")"
   ]
  },
  {
   "cell_type": "code",
   "execution_count": 31,
   "metadata": {},
   "outputs": [
    {
     "data": {
      "image/png": "[encoded data removed]",
      "text/plain": [
       "<Figure size 1440x864 with 1 Axes>"
      ]
     },
     "metadata": {},
     "output_type": "display_data"
    }
   ],
   "source": [
    "import matplotlib.pyplot as plt\n",
    "revenue_by_medium = df.groupby('new_medium')['Revenue'].sum()\n",
    "\n",
    "# Vẽ biểu đồ tròn\n",
    "plt.figure(figsize=(20, 12))\n",
    "plt.pie(revenue_by_medium, labels=revenue_by_medium.index, autopct='%1.1f%%')\n",
    "plt.legend(title='Medium', loc='right', bbox_to_anchor=(1.2, 0.5))\n",
    "plt.axis('equal')\n",
    "plt.title('Revenue by Medium')\n",
    "plt.show()"
   ]
  },
  {
   "cell_type": "code",
   "execution_count": 35,
   "metadata": {},
   "outputs": [
    {
     "data": {
      "image/png": "[encoded data removed]",
      "text/plain": [
       "<Figure size 1440x864 with 1 Axes>"
      ]
     },
     "metadata": {},
     "output_type": "display_data"
    }
   ],
   "source": [
    "new_user_by_medium = df.groupby('new_medium')['New Users'].sum()\n",
    "\n",
    "# Vẽ biểu đồ tròn\n",
    "plt.figure(figsize=(20, 12))\n",
    "plt.pie(new_user_by_medium, labels=new_user_by_medium.index, autopct='%1.1f%%')\n",
    "plt.legend(title='Medium', loc='right', bbox_to_anchor=(1.2, 0.5))\n",
    "plt.axis('equal')\n",
    "plt.title('New Users by Medium')\n",
    "plt.show()"
   ]
  },
  {
   "cell_type": "code",
   "execution_count": 39,
   "metadata": {},
   "outputs": [
    {
     "data": {
      "image/png": "[encoded data removed]",
      "text/plain": [
       "<Figure size 1440x864 with 2 Axes>"
      ]
     },
     "metadata": {
      "needs_background": "light"
     },
     "output_type": "display_data"
    }
   ],
   "source": [
    "fig, ax1 = plt.subplots(figsize=(20, 12))\n",
    "\n",
    "# Vẽ biểu đồ line cho session duration\n",
    "color = 'tab:red'\n",
    "ax1.set_xlabel('Time')\n",
    "ax1.set_ylabel('Session Duration', color=color)\n",
    "ax1.plot(df['Avg. Session Duration'], color=color)\n",
    "ax1.tick_params(axis='y', labelcolor=color)\n",
    "\n",
    "# Tạo trục y phụ cho conversion rate\n",
    "ax2 = ax1.twinx()\n",
    "\n",
    "# Vẽ biểu đồ line cho conversion rate\n",
    "color = 'tab:blue'\n",
    "ax2.set_ylabel('Conversion Rate', color=color)\n",
    "ax2.plot(df['Ecommerce Conversion Rate'], color=color)\n",
    "ax2.tick_params(axis='y', labelcolor=color)\n",
    "\n",
    "# Đặt tiêu đề cho biểu đồ\n",
    "plt.title('Session Duration and Conversion Rate')\n",
    "\n",
    "# Hiển thị biểu đồ\n",
    "plt.show()\n",
    "\n",
    "\n",
    "\n"
   ]
  }
 ],
 "metadata": {
  "interpreter": {
   "hash": "8bf806a3642ed99f0add9c8256c4952a58bc9a0cebfe88a16072b5f9bde5c5fa"
  },
  "kernelspec": {
   "display_name": "Python 3.8.8 ('base')",
   "language": "python",
   "name": "python3"
  },
  "language_info": {
   "codemirror_mode": {
    "name": "ipython",
    "version": 3
   },
   "file_extension": ".py",
   "mimetype": "text/x-python",
   "name": "python",
   "nbconvert_exporter": "python",
   "pygments_lexer": "ipython3",
   "version": "3.8.8"
  },
  "orig_nbformat": 4
 },
 "nbformat": 4,
 "nbformat_minor": 2
}
